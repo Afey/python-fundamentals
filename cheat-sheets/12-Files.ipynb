{
 "metadata": {
  "name": ""
 },
 "nbformat": 3,
 "nbformat_minor": 0,
 "worksheets": [
  {
   "cells": [
    {
     "cell_type": "markdown",
     "metadata": {},
     "source": [
      "# Python: File operations"
     ]
    },
    {
     "cell_type": "markdown",
     "metadata": {},
     "source": [
      "Materials by: [John Blischak](https://github.com/jdblischak \"GitHub\") and other Software Carpentry instructors (Joshua R. Smith, Milad Fatenejad, Katy Huff, Tommy Guy and many more)"
     ]
    },
    {
     "cell_type": "markdown",
     "metadata": {},
     "source": [
      "In this lesson we will cover how to read and write files."
     ]
    },
    {
     "cell_type": "markdown",
     "metadata": {},
     "source": [
      "# Reading from a file\n",
      "\n",
      "Note: \"less\" here is an ipython \"line magic.\" It's not part of regular python. It displays the contents of a file."
     ]
    },
    {
     "cell_type": "code",
     "collapsed": true,
     "input": [
      "less example.txt"
     ],
     "language": "python",
     "metadata": {},
     "outputs": []
    },
    {
     "cell_type": "code",
     "collapsed": true,
     "input": [
      "my_file = open(\"example.txt\")\n",
      "for line in my_file:\n",
      "    print line.strip()\n",
      "my_file.close()"
     ],
     "language": "python",
     "metadata": {},
     "outputs": []
    },
    {
     "cell_type": "markdown",
     "metadata": {},
     "source": [
      "# Writing to a file"
     ]
    },
    {
     "cell_type": "code",
     "collapsed": true,
     "input": [
      "new_file = open(\"example2.txt\", \"w\")\n",
      "dwight = ['bears', 'beets', 'Battlestar Galactica']\n",
      "for i in dwight:\n",
      "    new_file.write(i + '\\n')\n",
      "new_file.close()"
     ],
     "language": "python",
     "metadata": {},
     "outputs": []
    },
    {
     "cell_type": "code",
     "collapsed": true,
     "input": [
      "less example2.txt"
     ],
     "language": "python",
     "metadata": {},
     "outputs": []
    },
    {
     "cell_type": "markdown",
     "metadata": {},
     "source": [
      "## More genetics examples\n",
      "The file genos.txt has a column of genotypes. Read in the data and convert the genotypes as above. Hint: You'll need to use the built-in string method strip to remove the new-line characters (See the example of reading in a file above. We will cover string methods in the next section)."
     ]
    },
    {
     "cell_type": "code",
     "collapsed": false,
     "input": [
      "# Store the genotypes from genos.txt in this list\n",
      "genos_from_file = []"
     ],
     "language": "python",
     "metadata": {},
     "outputs": []
    },
    {
     "cell_type": "raw",
     "metadata": {},
     "source": [
      "Check your work:"
     ]
    },
    {
     "cell_type": "code",
     "collapsed": false,
     "input": [
      "genos_from_file[:15] == [2, 2, 1, 1, 0, 0, 2, 2, 2, 0, 'NA', 1, 0, 0, 2]"
     ],
     "language": "python",
     "metadata": {},
     "outputs": []
    }
   ],
   "metadata": {}
  }
 ]
}