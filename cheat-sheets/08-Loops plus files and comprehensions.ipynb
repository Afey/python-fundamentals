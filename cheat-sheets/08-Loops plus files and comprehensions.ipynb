{
 "metadata": {
  "name": ""
 },
 "nbformat": 3,
 "nbformat_minor": 0,
 "worksheets": [
  {
   "cells": [
    {
     "cell_type": "markdown",
     "metadata": {},
     "source": [
      "# Python: Flow Control"
     ]
    },
    {
     "cell_type": "markdown",
     "metadata": {},
     "source": [
      "Materials by: [John Blischak](https://github.com/jdblischak \"GitHub\") and other Software Carpentry instructors (Joshua R. Smith, Milad Fatenejad, Katy Huff, Tommy Guy and many more)"
     ]
    },
    {
     "cell_type": "markdown",
     "metadata": {},
     "source": [
      "In this lesson we will cover howto automate repetitive tasks using loops."
     ]
    },
    {
     "cell_type": "markdown",
     "metadata": {},
     "source": [
      "# Loops\n",
      "Loops come in two flavors: `while` and `for`."
     ]
    },
    {
     "cell_type": "code",
     "collapsed": true,
     "input": [
      "fruits = ['apples', 'oranges', 'pears', 'bananas']\n",
      "i = 0\n",
      "while i < len(fruits):\n",
      "    print fruits[i]\n",
      "    i = i + 1"
     ],
     "language": "python",
     "metadata": {},
     "outputs": []
    },
    {
     "cell_type": "code",
     "collapsed": true,
     "input": [
      "for fruit in fruits:\n",
      "    print fruit"
     ],
     "language": "python",
     "metadata": {},
     "outputs": []
    },
    {
     "cell_type": "code",
     "collapsed": true,
     "input": [
      "# Use range for a range on integers\n",
      "for i in range(len(fruits)):\n",
      "    print i, fruits[i]"
     ],
     "language": "python",
     "metadata": {},
     "outputs": []
    },
    {
     "cell_type": "code",
     "collapsed": true,
     "input": [
      "# Use zip to iterate over two lists at once\n",
      "fruits = ['apples', 'oranges', 'pears', 'bananas']\n",
      "prices = [0.49, 0.99, 1.49, 0.32]\n",
      "for fruit, price in zip(fruits, prices):\n",
      "    print fruit, \"cost\", price, \"each\"\n",
      "    "
     ],
     "language": "python",
     "metadata": {},
     "outputs": []
    },
    {
     "cell_type": "code",
     "collapsed": true,
     "input": [
      "# Use \"items\" to iterate over a dictionary\n",
      "# Note the order is non-deterministic\n",
      "prices = {'apples': 0.49, 'oranges': 0.99, 'pears': 1.49, 'bananas': 0.32}\n",
      "for fruit, price in prices.items():\n",
      "    print fruit, \"cost\", price, \"each\"\n",
      "          "
     ],
     "language": "python",
     "metadata": {},
     "outputs": []
    },
    {
     "cell_type": "code",
     "collapsed": true,
     "input": [
      "# Calculating a sum\n",
      "values = [1254, 95818, 61813541, 1813, 4]\n",
      "sum = 0\n",
      "for x in values:\n",
      "    sum = sum + x\n",
      "sum"
     ],
     "language": "python",
     "metadata": {},
     "outputs": []
    },
    {
     "cell_type": "markdown",
     "metadata": {},
     "source": [
      "## Short Exercise\n",
      "Using a loop, calculate the factorial of 42 (the product of all integers up to and including 42)."
     ]
    },
    {
     "cell_type": "markdown",
     "metadata": {},
     "source": [
      "## break, continue, and else\n",
      "\n",
      "A break statement cuts off a loop from within an inner loop. It helps\n",
      "avoid infinite loops by cutting off loops when they're clearly going\n",
      "nowhere."
     ]
    },
    {
     "cell_type": "code",
     "collapsed": true,
     "input": [
      "reasonable = 10\n",
      "for n in range(1,2000):\n",
      "    if n == reasonable :\n",
      "        break\n",
      "    print n"
     ],
     "language": "python",
     "metadata": {},
     "outputs": []
    },
    {
     "cell_type": "markdown",
     "metadata": {},
     "source": [
      "Something you might want to do instead of breaking is to continue to the\n",
      "next iteration of a loop, giving up on the current one."
     ]
    },
    {
     "cell_type": "code",
     "collapsed": true,
     "input": [
      "reasonable = 10\n",
      "for n in range(1,20):\n",
      "    if n == reasonable :\n",
      "      continue\n",
      "    print n"
     ],
     "language": "python",
     "metadata": {},
     "outputs": []
    },
    {
     "cell_type": "markdown",
     "metadata": {},
     "source": [
      "What is the difference between the output of these two?\n",
      "\n",
      "Importantly, Python allows you to use an else statement in a for loop.\n",
      "\n",
      "That is :"
     ]
    },
    {
     "cell_type": "code",
     "collapsed": true,
     "input": [
      "knights={\"Sir Belvedere\":\"the Wise\", \"Sir Lancelot\":\"the Brave\", \\\n",
      "        \"Sir Galahad\":\"the Pure\", \"Sir Robin\":\"the Brave\", \"The Black Knight\":\"John Cleese\"} \n",
      "\n",
      "favorites=knights.keys()\n",
      "favorites.remove(\"Sir Robin\")\n",
      "for name, title in knights.iteritems() : \n",
      "    string = name + \", \"\n",
      "    for fav in favorites :\n",
      "        if fav == name :\n",
      "            string += title\n",
      "            break\n",
      "    else:\n",
      "        string += title + \", but not quite so brave as Sir Lancelot.\" \n",
      "    print string"
     ],
     "language": "python",
     "metadata": {},
     "outputs": []
    },
    {
     "cell_type": "markdown",
     "metadata": {},
     "source": [
      "Working with files isn't covered until Lesson 12 in Codecademy. However, in the interest of getting to interesting ways to deal with data, we introduce the basics here!\n",
      "\n",
      "# Reading from a file"
     ]
    },
    {
     "cell_type": "code",
     "collapsed": true,
     "input": [
      "less example.txt"
     ],
     "language": "python",
     "metadata": {},
     "outputs": []
    },
    {
     "cell_type": "code",
     "collapsed": true,
     "input": [
      "my_file = open(\"example.txt\")\n",
      "for line in my_file:\n",
      "    print line.strip()\n",
      "my_file.close()"
     ],
     "language": "python",
     "metadata": {},
     "outputs": []
    },
    {
     "cell_type": "markdown",
     "metadata": {},
     "source": [
      "# Writing to a file"
     ]
    },
    {
     "cell_type": "code",
     "collapsed": true,
     "input": [
      "new_file = open(\"example2.txt\", \"w\")\n",
      "dwight = ['bears', 'beets', 'Battlestar Galactica']\n",
      "for i in dwight:\n",
      "    new_file.write(i + '\\n')\n",
      "new_file.close()"
     ],
     "language": "python",
     "metadata": {},
     "outputs": []
    },
    {
     "cell_type": "code",
     "collapsed": true,
     "input": [
      "less example2.txt"
     ],
     "language": "python",
     "metadata": {},
     "outputs": []
    },
    {
     "cell_type": "markdown",
     "metadata": {},
     "source": [
      "# Longer Exercise: Convert genotypes\n",
      "If most of this material is brand new to you, your goal is to complete Part 1. If you are more experienced, please move on to Part 2 and Part 3. And don't forget to talk to your neighbor!"
     ]
    },
    {
     "cell_type": "markdown",
     "metadata": {},
     "source": [
      "### Motivation:\n",
      "A biologist is interested in the genetic basis of height. She measures the heights of many subjects and sends off their DNA samples to a core for genotyping arrays. These arrays determine the DNA bases at the variable sites of the genome (known as single nucleotide polymorphisms, or SNPs). Since humans are diploid, i.e. have two of each chromosome, each data point will be two DNA bases corresponding to the two chromosomes in each individual. At each SNP, there will be only three possible genotypes, e.g. AA, AG, GG for an A/G SNP. In order to test the correlation between a SNP genotype and height, she wants to perform a regression with an additive genetic model. However, she cannot do this with the data in the current form. She needs to convert the genotypes, e.g. AA, AG, and GG, to the numbers 0, 1, and 2, respectively (in the example the number corresponds the number of G bases the person has at that SNP). Since she has too much data to do this manually, e.g. in Excel, she comes to you for ideas of how to efficiently transform the data."
     ]
    },
    {
     "cell_type": "markdown",
     "metadata": {},
     "source": [
      "## Part 1:\n",
      "Create a new list which has the converted genotype for each subject ('AA' -> 0, 'AG' -> 1, 'GG' -> 2)."
     ]
    },
    {
     "cell_type": "code",
     "collapsed": true,
     "input": [
      "genos = ['AA', 'GG', 'AG', 'AG', 'GG']\n",
      "genos_new = []\n",
      "# Use your knowledge of if/else statements and loop structures below."
     ],
     "language": "python",
     "metadata": {},
     "outputs": []
    },
    {
     "cell_type": "markdown",
     "metadata": {},
     "source": [
      "Check your work:"
     ]
    },
    {
     "cell_type": "code",
     "collapsed": false,
     "input": [
      "genos_new == [0, 2, 1, 1, 2]"
     ],
     "language": "python",
     "metadata": {},
     "outputs": []
    },
    {
     "cell_type": "markdown",
     "metadata": {},
     "source": [
      "## Part 2:\n",
      "Sometimes there are errors and the genotype cannot be determined. Adapt your code from above to deal with this problem (in this example missing data is assigned NA for \"Not Available\")."
     ]
    },
    {
     "cell_type": "code",
     "collapsed": true,
     "input": [
      "genos_w_missing = ['AA', 'NA', 'GG', 'AG', 'AG', 'GG', 'NA']\n",
      "genos_w_missing_new = []\n",
      "# The missing data should not be converted to a number, but remain 'NA' in the new list"
     ],
     "language": "python",
     "metadata": {},
     "outputs": []
    },
    {
     "cell_type": "markdown",
     "metadata": {},
     "source": [
      "Check your work:"
     ]
    },
    {
     "cell_type": "code",
     "collapsed": false,
     "input": [
      "genos_w_missing_new == [0, 'NA', 2, 1, 1, 2, 'NA']"
     ],
     "language": "python",
     "metadata": {},
     "outputs": []
    }
   ],
   "metadata": {}
  }
 ]
}