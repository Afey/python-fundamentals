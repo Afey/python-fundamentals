{
 "metadata": {
  "name": ""
 },
 "nbformat": 3,
 "nbformat_minor": 0,
 "worksheets": [
  {
   "cells": [
    {
     "cell_type": "markdown",
     "metadata": {},
     "source": [
      "# Lists and Functions\n",
      "\n",
      "This is not really a separate topic: it is a great integration of two important topics. In particular, we'll point out one gotcha.\n",
      "\n",
      "We're used to functions having no effect on the variables that we pass in:"
     ]
    },
    {
     "cell_type": "code",
     "collapsed": false,
     "input": [
      "x = 3\n",
      "\n",
      "def add_3(val):\n",
      "    val = val + 3\n",
      "    return val\n",
      "\n",
      "print add_3(x)\n",
      "# Above, the function only modified it's own variable, so x stays the same\n",
      "print x"
     ],
     "language": "python",
     "metadata": {},
     "outputs": []
    },
    {
     "cell_type": "markdown",
     "metadata": {},
     "source": [
      "But once we start using **mutable** data types like lists, things become tricky:"
     ]
    },
    {
     "cell_type": "code",
     "collapsed": false,
     "input": [
      "x = [1, 2, 3, 5]\n",
      "\n",
      "def add_3(val):\n",
      "    val[2] = val[2] + 3\n",
      "    return val\n",
      "\n",
      "print add_3(x)\n",
      "# Now, our function is modifying the contents of the list, and both variables still point to the same list\n",
      "# So the list x refers to *is* modified\n",
      "print x"
     ],
     "language": "python",
     "metadata": {},
     "outputs": []
    },
    {
     "cell_type": "markdown",
     "metadata": {},
     "source": [
      "So, the issue here is our function is no longer changing val so that it points at a new \"thing.\" Instead, we're taking the list that val points to (the same list x points to) and modifying it.\n",
      "\n",
      "Tricky, but important!"
     ]
    },
    {
     "cell_type": "code",
     "collapsed": false,
     "input": [],
     "language": "python",
     "metadata": {},
     "outputs": []
    }
   ],
   "metadata": {}
  }
 ]
}