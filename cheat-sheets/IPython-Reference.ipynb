{
 "metadata": {
  "name": "IPython-Reference"
 },
 "nbformat": 3,
 "nbformat_minor": 0,
 "worksheets": [
  {
   "cells": [
    {
     "cell_type": "markdown",
     "metadata": {},
     "source": [
      "## IPython reference\n",
      "* * * * *\n",
      "\n",
      "**Loosely Based on Lecture Materials By: Milad Fatenejad, Katy Huff, Joshua R. Smith, Tommy Guy, Will Trimble, and Many More**"
     ]
    },
    {
     "cell_type": "markdown",
     "metadata": {},
     "source": [
      "Getting Started\n",
      "===============\n",
      "\n",
      "**You run code using Shift-Enter**. This also moves you to the next box (or \"cell\") for code below the one you just ran (but this may change in the future).\n",
      "\n",
      "You can **run the following code using Shift-Enter** now!"
     ]
    },
    {
     "cell_type": "code",
     "collapsed": true,
     "input": [
      "print \"Look Ma, I'm programming!\""
     ],
     "language": "python",
     "metadata": {},
     "outputs": []
    },
    {
     "cell_type": "markdown",
     "metadata": {},
     "source": [
      "## Navigating in ipython notebook\n",
      "\n",
      "The box above is called the input cell; commands you put here will be fed to the python interpreter one at a time when you press **Shift-ENTER**.  \n",
      "\n",
      "The output of the command, or the error message, appears below the line you entered it on.\n",
      "\n",
      "The panel which may appear on the left has some notebook options; you can minimize the panel by double-clicking on the bar separating the windows. "
     ]
    },
    {
     "cell_type": "code",
     "collapsed": true,
     "input": [
      "print \"Try and tell that to the young people\"\n",
      "\n",
      "print \"of today--they won't believe you.\""
     ],
     "language": "python",
     "metadata": {},
     "outputs": []
    },
    {
     "cell_type": "markdown",
     "metadata": {},
     "source": [
      "If you hit **ENTER** only, ipython notebook gives you another line in the current cell.  \n",
      "\n",
      "This allows you to compose multi-line commands and submit them to python all at once.  "
     ]
    },
    {
     "cell_type": "markdown",
     "metadata": {},
     "source": [
      "Up and down arrows will allow you to move the cursor to different cells in the notebook, including these cells containing text (which you can edit in your browser).  \n",
      "\n",
      "Only the cells for which you press Shift-ENTER or Control-ENTER will be executed by the python interpreter.   "
     ]
    },
    {
     "cell_type": "markdown",
     "metadata": {},
     "source": [
      "You can enter the same line over and over again into the interpreter.  It's wierd, but it's life. "
     ]
    },
    {
     "cell_type": "code",
     "collapsed": true,
     "input": [
      "i = 0"
     ],
     "language": "python",
     "metadata": {},
     "outputs": []
    },
    {
     "cell_type": "markdown",
     "metadata": {},
     "source": [
      "**Shift-ENTER** executes and moves to the next cell.  \n",
      "\n",
      "**Control-ENTER** executes and does *not* move to the next cell.\n",
      "\n",
      "(But again, this may change.)\n",
      "\n",
      "Try entering this cell a few times:  "
     ]
    },
    {
     "cell_type": "code",
     "collapsed": true,
     "input": [
      "i = i + 1\n",
      "\n",
      "print i"
     ],
     "language": "python",
     "metadata": {},
     "outputs": []
    },
    {
     "cell_type": "markdown",
     "metadata": {},
     "source": [
      "If you want to create new empty cells, it's three keys: **Shift-Enter**, **Control-M**, and then  **a**  This will insert more cells in the middle of the notebook. "
     ]
    },
    {
     "cell_type": "markdown",
     "metadata": {},
     "source": [
      "## Getting Help\n",
      "\n",
      "\n",
      "\n",
      "IPython has some nice help features. Let's say we want to know more about the integer data type. There are at least two ways to do this task:"
     ]
    },
    {
     "cell_type": "code",
     "collapsed": true,
     "input": [
      "help(int)"
     ],
     "language": "python",
     "metadata": {},
     "outputs": []
    },
    {
     "cell_type": "markdown",
     "metadata": {},
     "source": [
      "which displays a scrolling text help, or"
     ]
    },
    {
     "cell_type": "code",
     "collapsed": true,
     "input": [
      "int?"
     ],
     "language": "python",
     "metadata": {},
     "outputs": []
    },
    {
     "cell_type": "markdown",
     "metadata": {},
     "source": [
      "Which displays a shorter help summary in the magic pane at the bottom of the screen.  You can minimize the magic pane when it gets in your way."
     ]
    },
    {
     "cell_type": "markdown",
     "metadata": {},
     "source": [
      "If you wanted to see all the built-in commands available for something, use the *dir* command. Check out all of the methods of the object \"Hello world\", which are shared by all objects of the str type."
     ]
    },
    {
     "cell_type": "code",
     "collapsed": true,
     "input": [
      "dir(\"Hello world\")"
     ],
     "language": "python",
     "metadata": {},
     "outputs": []
    },
    {
     "cell_type": "markdown",
     "metadata": {},
     "source": [
      "There's a method that looks important -- swapcase.  Let's see what it does:  "
     ]
    },
    {
     "cell_type": "code",
     "collapsed": true,
     "input": [
      "\"Hello world\".swapcase()"
     ],
     "language": "python",
     "metadata": {},
     "outputs": []
    },
    {
     "cell_type": "markdown",
     "metadata": {},
     "source": [
      "Hrm.  Ahem.\n",
      "\n",
      "## Executing code in files\n",
      "\n",
      "\n",
      "\n",
      "If your code is in a file, you can execute it from the IPython shell with the **%run** command. Execute hello.py like so"
     ]
    },
    {
     "cell_type": "code",
     "collapsed": true,
     "input": [
      "%run hellp.py"
     ],
     "language": "python",
     "metadata": {},
     "outputs": []
    },
    {
     "cell_type": "markdown",
     "metadata": {},
     "source": [
      "*Ooops.*  We misspelled **hello.py**, and python is giving us an error message.  Change the line above to hello.py, hit **Shift-ENTER**, and see what it does."
     ]
    },
    {
     "cell_type": "markdown",
     "metadata": {},
     "source": [
      "## Clearing IPython\n",
      "\n",
      "\n",
      "\n",
      "To clear everything from IPython, use the %reset command or Kernel->Restart in the menu."
     ]
    },
    {
     "cell_type": "code",
     "collapsed": true,
     "input": [
      "mystring = \"And three shall be the count.\" \n",
      "\n",
      "print mystring"
     ],
     "language": "python",
     "metadata": {},
     "outputs": []
    },
    {
     "cell_type": "code",
     "collapsed": true,
     "input": [
      "%reset # or Kernel->Restart in the menu"
     ],
     "language": "python",
     "metadata": {},
     "outputs": []
    },
    {
     "cell_type": "code",
     "collapsed": true,
     "input": [
      "print mystring"
     ],
     "language": "python",
     "metadata": {},
     "outputs": []
    },
    {
     "cell_type": "markdown",
     "metadata": {},
     "source": [
      "## Pasting\n",
      "\n",
      "You can paste things into the ipython console by copying text from your machine with **ctrl+c** and typing **%paste** at the IPython prompt.  The **%paste** is necessary syntax for multi-line clipboard deposits. A related command is **%cpaste**. But this is only relevant for the console, NOT the web notebook!"
     ]
    }
   ],
   "metadata": {}
  }
 ]
}