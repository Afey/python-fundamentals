{
 "metadata": {
  "name": ""
 },
 "nbformat": 3,
 "nbformat_minor": 0,
 "worksheets": [
  {
   "cells": [
    {
     "cell_type": "markdown",
     "metadata": {},
     "source": [
      "## Codecademy Exercise 2\n",
      "\n",
      "\n",
      "* * * * *\n",
      "\n",
      "**Loosely Based on Lecture Materials By: Milad Fatenejad, Katy Huff, Joshua R. Smith, Tommy Guy, Will Trimble, and Many More**"
     ]
    },
    {
     "cell_type": "markdown",
     "metadata": {},
     "source": [
      "There are operations that can be done with strings."
     ]
    },
    {
     "cell_type": "code",
     "collapsed": true,
     "input": [
      "firstName = \"Johann\""
     ],
     "language": "python",
     "metadata": {},
     "outputs": []
    },
    {
     "cell_type": "code",
     "collapsed": true,
     "input": [
      "lastName = \"Gambolputty\""
     ],
     "language": "python",
     "metadata": {},
     "outputs": []
    },
    {
     "cell_type": "markdown",
     "metadata": {},
     "source": [
      "When concatenating strings, we must explicitly use the concatenation operator `+`.  Computers don't understand context."
     ]
    },
    {
     "cell_type": "code",
     "collapsed": true,
     "input": [
      "fullName = firstName + lastName"
     ],
     "language": "python",
     "metadata": {},
     "outputs": []
    },
    {
     "cell_type": "code",
     "collapsed": true,
     "input": [
      "print fullName"
     ],
     "language": "python",
     "metadata": {},
     "outputs": []
    },
    {
     "cell_type": "code",
     "collapsed": true,
     "input": [
      "fullName = firstName + \" \" + lastName"
     ],
     "language": "python",
     "metadata": {},
     "outputs": []
    },
    {
     "cell_type": "code",
     "collapsed": true,
     "input": [
      "print fullName"
     ],
     "language": "python",
     "metadata": {},
     "outputs": []
    },
    {
     "cell_type": "markdown",
     "metadata": {},
     "source": [
      "There are other operations defined on string data. IPython lets you do tab-completion after a dot ('.') to see what an object (i.e., a defined variable) has to offer. Try it now!"
     ]
    },
    {
     "cell_type": "code",
     "collapsed": false,
     "input": [
      "str."
     ],
     "language": "python",
     "metadata": {},
     "outputs": []
    },
    {
     "cell_type": "markdown",
     "metadata": {},
     "source": [
      "Let's look at the upper method. What does it do? Lets take a look at the documentation. IPython lets us do this with a question mark ('?') before *or* after an object (again, a defined variable)."
     ]
    },
    {
     "cell_type": "code",
     "collapsed": true,
     "input": [
      "str.upper?"
     ],
     "language": "python",
     "metadata": {},
     "outputs": [],
     "prompt_number": 1
    },
    {
     "cell_type": "markdown",
     "metadata": {},
     "source": [
      "So we can use it to upper-caseify a string. "
     ]
    },
    {
     "cell_type": "code",
     "collapsed": true,
     "input": [
      "fullName.upper()"
     ],
     "language": "python",
     "metadata": {},
     "outputs": []
    },
    {
     "cell_type": "markdown",
     "metadata": {},
     "source": [
      "You have to use the parenthesis at the end because upper is a method of the string class.\n",
      "\n",
      "\n",
      "\n",
      "For what its worth, you don't need to have a variable to use the upper() method, you could use it on the string itself."
     ]
    },
    {
     "cell_type": "code",
     "collapsed": true,
     "input": [
      "\"Johann Gambolputty\".upper()"
     ],
     "language": "python",
     "metadata": {},
     "outputs": []
    },
    {
     "cell_type": "markdown",
     "metadata": {},
     "source": [
      "What do you think should happen when you take upper of an int?  What about a string representation of an int?"
     ]
    },
    {
     "cell_type": "code",
     "collapsed": false,
     "input": [],
     "language": "python",
     "metadata": {},
     "outputs": []
    }
   ],
   "metadata": {}
  }
 ]
}