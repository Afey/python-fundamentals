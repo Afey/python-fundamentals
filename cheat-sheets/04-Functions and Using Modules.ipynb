{
 "metadata": {
  "name": ""
 },
 "nbformat": 3,
 "nbformat_minor": 0,
 "worksheets": [
  {
   "cells": [
    {
     "cell_type": "markdown",
     "metadata": {},
     "source": [
      "# Functions\n",
      "\n",
      "Functions are the basic building blocks that we use to store chunks of code we'll want to use again later. The details are pretty simple, but this is one of those ideas where it's good to get lots of practice!"
     ]
    },
    {
     "cell_type": "code",
     "collapsed": false,
     "input": [
      "def simple_function(x):\n",
      "    print x + 1\n",
      "    \n",
      "simple_function(2)"
     ],
     "language": "python",
     "metadata": {},
     "outputs": []
    },
    {
     "cell_type": "raw",
     "metadata": {},
     "source": [
      "Note that our function might not work for everything we pass in (you should get an error on this one):"
     ]
    },
    {
     "cell_type": "code",
     "collapsed": false,
     "input": [
      "simple_function('2')"
     ],
     "language": "python",
     "metadata": {},
     "outputs": []
    },
    {
     "cell_type": "raw",
     "metadata": {},
     "source": [
      "Functions can take any number of arguments"
     ]
    },
    {
     "cell_type": "code",
     "collapsed": false,
     "input": [
      "def less_simple(a, b, c):\n",
      "    print a + b + c\n",
      "    \n",
      "less_simple(1, 2, 3)"
     ],
     "language": "python",
     "metadata": {},
     "outputs": []
    },
    {
     "cell_type": "raw",
     "metadata": {},
     "source": [
      "And now we can pass in strings (as long as they're all strings):"
     ]
    },
    {
     "cell_type": "code",
     "collapsed": false,
     "input": [
      "less_simple('These ', 'should ', 'concatenate')"
     ],
     "language": "python",
     "metadata": {},
     "outputs": []
    },
    {
     "cell_type": "raw",
     "metadata": {},
     "source": [
      "You can also use named arguments instead of positional ones. Note how the printed order is still \"abc\" even though we pass in \"acb.\""
     ]
    },
    {
     "cell_type": "code",
     "collapsed": false,
     "input": [
      "less_simple(a='first', c=' third', b=' second')"
     ],
     "language": "python",
     "metadata": {},
     "outputs": []
    },
    {
     "cell_type": "markdown",
     "metadata": {},
     "source": [
      "Python has very rich options for defining and calling functions. But we're already getting ahead of Codecademy, so we'll stop here for now.\n",
      "\n",
      "# Modules\n",
      "\n",
      "Python has an extensive standard library that is always included with the python interpreter. You can read about it here:\n",
      "\n",
      "http://docs.python.org/2/library/\n",
      "\n",
      "It can seem overwhelming! I've been using it for years and still don't know everything in there!\n",
      "\n",
      "Another very useful module is pandas. It provides a DataFrame structure that's a lot like a spreadsheet:"
     ]
    },
    {
     "cell_type": "code",
     "collapsed": false,
     "input": [
      "import pandas\n",
      "\n",
      "df = pandas.DataFrame({'Day': [1, 2, 3, 4], 'Score': [88, 90, 76, 43]})"
     ],
     "language": "python",
     "metadata": {},
     "outputs": []
    },
    {
     "cell_type": "raw",
     "metadata": {},
     "source": [
      "The IPython notebook will print these very nicely:"
     ]
    },
    {
     "cell_type": "code",
     "collapsed": false,
     "input": [
      "df"
     ],
     "language": "python",
     "metadata": {},
     "outputs": []
    },
    {
     "cell_type": "raw",
     "metadata": {},
     "source": [
      "And we can select columns or rows (or both):"
     ]
    },
    {
     "cell_type": "code",
     "collapsed": false,
     "input": [
      "df.Score # This only works if the column is a valid python variable name!"
     ],
     "language": "python",
     "metadata": {},
     "outputs": []
    },
    {
     "cell_type": "code",
     "collapsed": false,
     "input": [
      "df.iloc[1]"
     ],
     "language": "python",
     "metadata": {},
     "outputs": []
    },
    {
     "cell_type": "code",
     "collapsed": false,
     "input": [
      "df.Score[1]"
     ],
     "language": "python",
     "metadata": {},
     "outputs": []
    },
    {
     "cell_type": "markdown",
     "metadata": {},
     "source": [
      "Pandas is very powerful. Even this one library will take time to master. You can read more about it here:\n",
      "\n",
      "http://pandas.pydata.org/"
     ]
    }
   ],
   "metadata": {}
  }
 ]
}